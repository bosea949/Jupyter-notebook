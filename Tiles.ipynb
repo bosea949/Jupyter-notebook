{
 "cells": [
  {
   "cell_type": "code",
   "execution_count": 1,
   "metadata": {},
   "outputs": [],
   "source": [
    "import numpy as np\n",
    "import cv2 as cv\n",
    "import matplotlib.pyplot as plt\n",
    "import matplotlib.image as image\n",
    "import math"
   ]
  },
  {
   "cell_type": "markdown",
   "metadata": {},
   "source": [
    "### Smoothening(Noise Reduction)\n",
    "Smoothing is  used to reduce noise within an image or to produce a less pixelated image. Most smoothing methods are based on low pass filters.  Smoothing is also usually based on a single value representing the image, such as the average value of the image or the middle (median) value. There are alsso blur techniues such as Gaussian Blur which basically involves blurring an image through a Gaussian Function."
   ]
  },
  {
   "cell_type": "code",
   "execution_count": 2,
   "metadata": {},
   "outputs": [],
   "source": [
    "def smooth(image, threshold):\n",
    "    height = image.shape[0]\n",
    "    width = image.shape[1]\n",
    "    for i in range(height-1):\n",
    "        for j in range(width-1):\n",
    "            if image[i, j] < threshold:\n",
    "                image[i, j] = 255\n",
    "            else:\n",
    "                image[i, j] = 0\n",
    "    cv.imshow('my_blur', image)\n",
    "    return image"
   ]
  },
  {
   "cell_type": "markdown",
   "metadata": {},
   "source": [
    "### Image thresholding\n",
    "Image thresholding is a  way of partitioning an image into a foreground and background. This image analysis technique is a type of image segmentation that isolates objects by converting grayscale images into binary images.\n",
    "\n",
    "Original image\n",
    "<img src=\"https://upload.wikimedia.org/wikipedia/commons/d/d6/Pavlovsk_Railing_of_bridge_Yellow_palace_Winter.jpg\">\n",
    "\n",
    "Binary image\n",
    "\n",
    "<img src=\"https://upload.wikimedia.org/wikipedia/commons/thumb/d/d4/Pavlovsk_Railing_of_bridge_Yellow_palace_Winter_bw_threshold.jpg/1024px-Pavlovsk_Railing_of_bridge_Yellow_palace_Winter_bw_threshold.jpg\">"
   ]
  },
  {
   "cell_type": "markdown",
   "metadata": {},
   "source": [
    " ## Thresholding"
   ]
  },
  {
   "cell_type": "markdown",
   "metadata": {},
   "source": [
    "#### Simple Thresholding\n",
    "For every pixel, the same threshold value is applied. If the pixel value is smaller than the threshold, it is set to 0, otherwise it is set to a maximum value. \n",
    "\n",
    "#### OTSU METHOD of thresholding\n",
    "Otsu's thresholding method involves iterating through all the possible threshold values and calculating a measure of spread for the pixel levels each side of the threshold, i.e. the pixels that either fall in foreground or background. The aim is to find the threshold value where the sum of foreground and background spreads is at its minimum.\n",
    "\n",
    "#### Adaptive Thresholding\n",
    "Here, the algorithm determines the threshold for a pixel based on a small region around it. So we get different thresholds for different regions of the same image which gives better results for images with varying illumination.\n"
   ]
  },
  {
   "cell_type": "code",
   "execution_count": 3,
   "metadata": {},
   "outputs": [],
   "source": [
    "def threshold_op(gray, mode):\n",
    "    if mode == 0:  \n",
    "          ret, binary = cv.threshold(gray, 0, 255,   cv.THRESH_BINARY | cv.THRESH_OTSU) \n",
    "    if mode==1:\n",
    "        ret, binary = cv.threshold(gray, 180, 255,cv.THRESH_BINARY) # Simple Thresholding \n",
    "    if mode == 2:  \n",
    "        binary = cv.adaptiveThreshold(gray, 255, cv.ADAPTIVE_THRESH_GAUSSIAN_C,\n",
    "                                      cv.THRESH_BINARY,15,25)\n",
    "    cv.imshow(\"threshold\", binary)\n",
    "    return binary"
   ]
  },
  {
   "attachments": {},
   "cell_type": "markdown",
   "metadata": {},
   "source": [
    "## Morphological Operations\n",
    "Morphological operations are a set of operations that process image based on their shapes. They apply a structuring element to the input image and get an output image. \n",
    "\n",
    "### Structural Element\n",
    "A structuring element is a matrix that identifies the pixel in the image being processed and defines the neighborhood used in the processing of each pixel.\n",
    "\n",
    "\n",
    "In morphological filter, each element in the matrix is called “structuring element” instead of coefficient matrix in the linear filter. The structuring elements contain only the value 0 and 1. And the hot spot of the filter is the dark shade element.\n",
    "\n",
    "<img src=\"https://cdn-images-1.medium.com/max/1600/1*Bv0axRuLXhDH0vL_U5ApCA.png\">\n",
    "\n",
    "The binary image is described as sets of two-dimensional coordinate point. This is called “Point Set” Q and point set consist of the coordinate pair p = (u,v) of all foreground pixels. Some operations of point set are similar to the operation in others image. For inverting binary image is complement operation and combining two binary image use union operator. Shifting binary image I by some coordinate vector d by adding vector d to point p. Or reflection of binary image I by multiply -1 to point p.\n",
    "\n",
    "In gray-scale morphology, structuring elements are defined as real-value 2D functions H:$\\mathbb{Z}^2\\rightarrow \\mathbb{R}$  instead of point sets. \n",
    "\n",
    "<img src=\"https://cdn-images-1.medium.com/max/1400/1*u7i_BHDbE9d8f0PHfETb4g.png\">\n",
    "\n",
    "The value in H can be negative or zero value. But it contrast to linear convolution, zero elements are used to compute the result. And if do not want to use the elements in some location, one can put no element in that location.\n",
    "\n",
    "<img src=\"https://cdn-images-1.medium.com/max/1600/1*OfMAeRHr5qDtMRJ9SQLQrA.png\">\n",
    "\n",
    "\n",
    "\n",
    "### Dilation\n",
    "Dilation is a morphological operator which work for the grow process as I mentioned before. The equation of this operator is defined as\n",
    "\n",
    "<img src=\"https://cdn-images-1.medium.com/max/1600/1*kHnFPc3pHCvefc77f48vCw.png\">\n",
    "\n",
    "It consists of convoluting an image I with some kernel B, of any shape or size, usually a square or a circle. The kernel B has a defined anchor point [The anchor point defines how the kernel is positioned with respect to the pixel currently processed during the filter operation.]. As the kernel B is scanned over the image, we compute the maximal pixel value overlapped by B and replace the image pixel in the anchor point position with that maximal value. As you can deduce, this maximizing operation causes bright regions within an image to “grow” (therefore the name dilation).\n",
    "\n",
    "In gray scale morphology, it is the maximum value of the value in H add to the current sub-image.\n",
    "\n",
    "<img src=\"https://cdn-images-1.medium.com/max/1200/1*jDswdRMsFAnBM85vMiY78g.png\">\n",
    "\n",
    "\n",
    "### Erosion\n",
    "Erosion is a morphological operator which work for the shrink process as I mentioned before as well and the equation is defined as\n",
    "\n",
    "<img src=\"https://cdn-images-1.medium.com/max/1000/1*k22ghIKh6BCQIcB64zc6ww.png\">\n",
    "\n",
    "Unlike dilation, it compute a local minimum over the area of the kernel.As the kernel B is scanned over the image, we compute the minimal pixel value overlapped by B and replace the image pixel under the anchor point with that minimal value. \n",
    "\n",
    "In gray scale morphology, it is the minimum value of the difference.\n",
    "<img src=\"https://cdn-images-1.medium.com/max/1200/1*at5Ax1pFvjGdzv3enFWrSg.png\">\n",
    "\n",
    "#### Note\n",
    "In addition, erosion and dilation are duels, for a dilation of the foreground can be accomplished by an erosion of background and subsequent of the result in two different properties but work similarily.\n",
    "\n",
    "<img src=\"https://cdn-images-1.medium.com/max/1400/1*6gs1qFa5j_Sp8LYGGnNJ-w.png\">\n",
    "\n",
    "\n",
    "### Opening\n",
    "It is  the erosion of an image followed by a dilation(dilate(erode(src,element)).It is useful for removing small objects (it is assumed that the objects are bright on a dark foreground)\n",
    "\n",
    "<img src=\"https://opencv-python-tutroals.readthedocs.io/en/latest/_images/opening.png\">\n",
    "\n",
    "### Closing\n",
    "It is  the dilation of an image followed by a erosion(erode(dilation(src,element)).It is useful to remove small holes (dark regions).\n",
    "\n",
    "<img src=\"https://opencv-python-tutroals.readthedocs.io/en/latest/_images/closing.png\">"
   ]
  },
  {
   "cell_type": "code",
   "execution_count": null,
   "metadata": {},
   "outputs": [],
   "source": [
    "def mor_op(binary, mode, iterations):\n",
    "    if mode == 'close':\n",
    "        kernel = cv.getStructuringElement(cv.MORPH_ELLIPSE, (5, 5))  \n",
    "        sure = cv.morphologyEx(binary, cv.MORPH_CLOSE, kernel, iterations=iterations)  \n",
    "        morimage = cv.bitwise_not(sure) \n",
    "        morimage = cv.bilateralFilter(morimage, 0, 100, 15)\n",
    "        morimage=smooth(morimage, 155)\n",
    "        cv.imshow('morimage', morimage)\n",
    "    elif mode == 'open':\n",
    "        kernel = cv.getStructuringElement(cv.MORPH_ELLIPSE, (5, 5))  \n",
    "        morimage = cv.morphologyEx(binary, cv.MORPH_OPEN, kernel, iterations) \n",
    "        morimage=smooth(morimage, 200)\n",
    "        cv.imshow('mor_op', morimage)\n",
    "    return morimage"
   ]
  },
  {
   "cell_type": "code",
   "execution_count": null,
   "metadata": {},
   "outputs": [],
   "source": [
    "image = cv.imread('tile_582.jpg')  \n",
    "#image = cv.GaussianBlur(image, (3, 3), 0) ### It is used for noise reduction in an image(Alternative for manual smoothening function.)\n",
    "gray = cv.cvtColor(image, cv.COLOR_BGR2GRAY)  \n",
    "gray=cv.equalizeHist(gray) ' It is a method in image processing of contrast adjustment using the image histogram.'\n",
    "cv.imshow('equalHist', gray)  \n",
    "binary = threshold_op(gray, 2)  \n",
    "morimage = mor_op(binary,'open',20) 'For defect detection in Ceramic tiles , opening works better than closing.'\n",
    "cv.waitKey(0)\n"
   ]
  },
  {
   "cell_type": "markdown",
   "metadata": {},
   "source": [
    "## Comment\n",
    "The algorithms that are adapted in the paper https://moodle.cmi.ac.in/pluginfile.php/10112/mod_resource/content/2/ceramic-tiles.pdf for surface defect detection in Ceramic tiles are basically combination of various morphological operations ,thresholding, smoothening techniques. The paper though succeeds in idefect detection quite often but does not provide a walk through approach and thus, requires tuning of the parameters involved in its implementation. "
   ]
  }
 ],
 "metadata": {
  "kernelspec": {
   "display_name": "Python 3",
   "language": "python",
   "name": "python3"
  },
  "language_info": {
   "codemirror_mode": {
    "name": "ipython",
    "version": 3
   },
   "file_extension": ".py",
   "mimetype": "text/x-python",
   "name": "python",
   "nbconvert_exporter": "python",
   "pygments_lexer": "ipython3",
   "version": "3.6.8"
  }
 },
 "nbformat": 4,
 "nbformat_minor": 2
}
