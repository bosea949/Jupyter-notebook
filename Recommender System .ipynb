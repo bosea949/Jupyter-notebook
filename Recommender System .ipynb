{
 "cells": [
  {
   "cell_type": "markdown",
   "metadata": {},
   "source": [
    "# Recomender System"
   ]
  },
  {
   "cell_type": "code",
   "execution_count": 1,
   "metadata": {},
   "outputs": [],
   "source": [
    "critics={'Lisa Rose': {'Lady in the Water': 2.5, 'Snakes on a Plane': 3.5,\n",
    " 'Just My Luck': 3.0, 'Superman Returns': 3.5, 'You, Me and Dupree': 2.5,\n",
    " 'The Night Listener': 3.0,'The Batman Begins':4.1,'Intersteller':4.8,'The Commuter':3.7,'Taken':3.5},\n",
    "'Gene Seymour': {'Lady in the Water': 3.0, 'Snakes on a Plane': 3.5,\n",
    " 'Just My Luck': 1.5, 'Superman Returns': 5.0, 'The Night Listener': 3.0,\n",
    " 'You, Me and Dupree': 3.5,'The Martian':4.7,'The Commuter':3.7,'The Third Person':3.1},\n",
    "'Michael Phillips': {'Lady in the Water': 2.5, 'Snakes on a Plane': 3.0,\n",
    " 'Superman Returns': 3.5, 'The Night Listener': 4.0,'The Batman Begins':4.1,'Intersteller':4.9,'Gravity':4.6},\n",
    "'Claudia Puig': {'Snakes on a Plane': 3.5, 'Just My Luck': 3.0,\n",
    " 'The Night Listener': 4.5, 'Superman Returns': 4.0,\n",
    " 'You, Me and Dupree': 2.5,'The Batman Begins':4.1,'The Martian':4.7,'Taken':3.6,'The Third Person':3.5},\n",
    "'Mick LaSalle': {'Lady in the Water': 3.0, 'Snakes on a Plane': 4.0,''\n",
    " 'Just My Luck': 2.0, 'Superman Returns': 3.0, 'The Night Listener': 3.0,\n",
    " 'You, Me and Dupree': 2.0,'The Batman Begins':4.1,'The Martian':4.7,'The Commuter':3.7,'Gravity':4.0},\n",
    "'Jack Matthews': {'Lady in the Water': 3.0, 'Snakes on a Plane': 4.0,\n",
    " 'The Night Listener': 3.0, 'Superman Returns': 5.0, 'You, Me and Dupree': 3.5,'Intersteller':4.8,'Taken':3.8},\n",
    "'Toby': {'Snakes on a Plane':4.5,'You, Me and Dupree':1.0,'Superman Returns':4.0,'Rogue One':3.4},\n",
    "        'John Simpson':{'Snakes on a Plane':4.5,'You, Me and Dupree':1.0,'Superman Returns':4.0,'Intersteller':4.2,'The Martian':4.7},\n",
    "        'Jimmy ':{'The Commuter':3.7,'Snakes on a Plane':4.5,'You, Me and Dupree':1.0,'Intersteller':4.5,'The Martian':4.7,'Gravity':3.7,'The Third Person':3.3}}"
   ]
  },
  {
   "cell_type": "code",
   "execution_count": 2,
   "metadata": {},
   "outputs": [],
   "source": [
    "import math as m"
   ]
  },
  {
   "cell_type": "code",
   "execution_count": 3,
   "metadata": {},
   "outputs": [],
   "source": [
    "# Returns the Pearson correlation coefficient for p1 and p2\n",
    "def sim_pearson(prefs,p1,p2):\n",
    " # Get the list of mutually rated items\n",
    " si={}\n",
    " for item in prefs[p1]:\n",
    "     if item in prefs[p2]: si[item]=1\n",
    " # Find the number of elements\n",
    " n=len(si)\n",
    " # if they are no ratings in common, return 0\n",
    " if n==0: return 0\n",
    " # Add up all the preferences\n",
    " sum1=sum([prefs[p1][it] for it in si])\n",
    " sum2=sum([prefs[p2][it] for it in si])\n",
    " # Sum up the squares\n",
    " sum1Sq=sum([pow(prefs[p1][it],2) for it in si])\n",
    " sum2Sq=sum([pow(prefs[p2][it],2) for it in si])\n",
    " # Sum up the products\n",
    " pSum=sum([prefs[p1][it]*prefs[p2][it] for it in si])\n",
    " # Calculate Pearson score\n",
    " num=pSum-(sum1*sum2/n)\n",
    " den=m.sqrt((sum1Sq-pow(sum1,2)/n)*(sum2Sq-pow(sum2,2)/n))\n",
    " if den==0: return 0\n",
    " r=num/den\n",
    " return r"
   ]
  },
  {
   "cell_type": "code",
   "execution_count": 4,
   "metadata": {},
   "outputs": [],
   "source": [
    "def getRecommendations(prefs,person,similarity=sim_pearson):\n",
    "     totals={}\n",
    "     simSums={}\n",
    "     for other in prefs:\n",
    "     # don't compare me to myself\n",
    "         if other==person: \n",
    "            continue\n",
    "         sim=similarity(prefs,person,other)\n",
    "     # ignore scores of zero or lower\n",
    "         if sim<=0: \n",
    "            continue\n",
    "         for item in prefs[other]:\n",
    "     # only score movies I haven't seen yet\n",
    "             if item not in prefs[person] or prefs[person][item]==0:\n",
    "             # Similarity * Score\n",
    "                 totals.setdefault(item,0)\n",
    "                 totals[item]+=prefs[other][item]*sim\n",
    "             # Sum of similarities\n",
    "                 simSums.setdefault(item,0)\n",
    "                 simSums[item]+=sim\n",
    "     # Create the normalized list\n",
    "     rankings=[(total/simSums[item],item) for item,total in totals.items( )]\n",
    "     # Return the sorted list\n",
    "     rankings.sort( )\n",
    "     rankings.reverse( )\n",
    "     return rankings"
   ]
  },
  {
   "cell_type": "markdown",
   "metadata": {},
   "source": [
    "# Top 10 Movie Recommendations"
   ]
  },
  {
   "cell_type": "code",
   "execution_count": 5,
   "metadata": {},
   "outputs": [
    {
     "data": {
      "text/plain": [
       "[(4.7, 'The Martian'),\n",
       " (4.553700626705094, 'Intersteller'),\n",
       " (4.099999999999999, 'The Batman Begins'),\n",
       " (3.844113204188892, 'Gravity'),\n",
       " (3.6999999999999993, 'The Commuter'),\n",
       " (3.6131288687603016, 'Taken'),\n",
       " (3.3477895267131017, 'The Night Listener'),\n",
       " (3.3450318393927105, 'The Third Person'),\n",
       " (2.8325499182641614, 'Lady in the Water'),\n",
       " (2.530980703765565, 'Just My Luck')]"
      ]
     },
     "execution_count": 5,
     "metadata": {},
     "output_type": "execute_result"
    }
   ],
   "source": [
    "getRecommendations(critics,'Toby')"
   ]
  }
 ],
 "metadata": {
  "kernelspec": {
   "display_name": "Python 3",
   "language": "python",
   "name": "python3"
  },
  "language_info": {
   "codemirror_mode": {
    "name": "ipython",
    "version": 3
   },
   "file_extension": ".py",
   "mimetype": "text/x-python",
   "name": "python",
   "nbconvert_exporter": "python",
   "pygments_lexer": "ipython3",
   "version": "3.6.7"
  }
 },
 "nbformat": 4,
 "nbformat_minor": 2
}
